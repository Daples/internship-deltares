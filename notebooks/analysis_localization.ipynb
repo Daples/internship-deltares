{
 "cells": [
  {
   "cell_type": "code",
   "execution_count": 4,
   "metadata": {},
   "outputs": [
    {
     "name": "stdout",
     "output_type": "stream",
     "text": [
      "The autoreload extension is already loaded. To reload it, use:\n",
      "  %reload_ext autoreload\n"
     ]
    }
   ],
   "source": [
    "%load_ext autoreload\n",
    "%autoreload 2\n",
    "import xarray as xr\n",
    "import numpy as np\n",
    "import pandas as pd\n",
    "import os\n",
    "import matplotlib.pyplot as plt\n",
    "from glob import glob\n",
    "\n",
    "from utils.plotter import Plotter\n",
    "from utils.data_handler import DataHandler\n",
    "\n",
    "labels = [\"enkf\"]\n",
    "# labels = [\"bias20_no_loc_nosat\", \"bias20_loc_nosat\"]\n",
    "root = lambda x, y: f\"./output_{x}/work{y}/\"\n",
    "n_works = len(glob(root(labels[0], \"*\")))\n",
    "template = lambda x, y: f\"{root(x, y)}/output/\"\n",
    "data_folder = lambda x: template(labels[0], x)\n",
    "noise_file = lambda x: f\"{root(labels[0], x)}/airpressure_noise.nc\"\n",
    "folder = data_folder(0)\n",
    "output_folder = \"figs\"\n",
    "\n",
    "spin_up_time = 7  # In days\n",
    "start_date = \"2014-06-01\"\n",
    "end_date = \"2014-08-31\"\n",
    "assimilation_end_date = \"2014-06-09\"\n",
    "noos_folder = \"/home/mverlaan/einf220/fromDavid/gtsm_openDA_david/stochObserver/noos_cmems_bk\"\n",
    "noos_file = lambda station: os.path.join(noos_folder, f\"timeseries_{start_date}_{end_date}_{station}_averaged.noos\")\n",
    "locs_file = \"/home/mverlaan/einf220/fromDavid/gtsm_openDA_david/stochModel/input_dflowfm/grid_locs_bk.xyn\"\n",
    "xs, ys, stations = DataHandler.read_xyn(locs_file)\n",
    "\n",
    "his_file = \"full_gtsm_fine_0000_his.nc\"\n",
    "av_file = \"full_gtsm_fine_averaged_0000_his.nc\""
   ]
  },
  {
   "cell_type": "code",
   "execution_count": null,
   "metadata": {},
   "outputs": [],
   "source": [
    "for i in range(n_works):\n",
    "    nc = xr.load_dataset(noise_file(i))\n",
    "    nc.sel(time=slice(start_date, assimilation_end_date)).interp(y=52.9, x=4.7).p.plot(\n",
    "        label=f\"{i}\"\n",
    "    )"
   ]
  },
  {
   "cell_type": "code",
   "execution_count": 5,
   "metadata": {},
   "outputs": [
    {
     "ename": "FileNotFoundError",
     "evalue": "[Errno 2] No such file or directory: '/home/mverlaan/einf220/fromDavid/gtsm_openDA_david/stochObserver/noos_cmems/timeseries_2014-06-01_2014-08-31_lon-99.5_lat-60.0_averaged.noos'",
     "output_type": "error",
     "traceback": [
      "\u001b[0;31m---------------------------------------------------------------------------\u001b[0m",
      "\u001b[0;31mFileNotFoundError\u001b[0m                         Traceback (most recent call last)",
      "\u001b[1;32m/home/mverlaan/einf220/fromDavid/saved_results/gtsm/analysis_localization.ipynb Cell 3\u001b[0m line \u001b[0;36m3\n\u001b[1;32m     <a href='vscode-notebook-cell://ssh-remote%2Bsnellius.surf.nl/home/mverlaan/einf220/fromDavid/saved_results/gtsm/analysis_localization.ipynb#W2sdnNjb2RlLXJlbW90ZQ%3D%3D?line=27'>28</a>\u001b[0m \u001b[39m# Observations\u001b[39;00m\n\u001b[1;32m     <a href='vscode-notebook-cell://ssh-remote%2Bsnellius.surf.nl/home/mverlaan/einf220/fromDavid/saved_results/gtsm/analysis_localization.ipynb#W2sdnNjb2RlLXJlbW90ZQ%3D%3D?line=28'>29</a>\u001b[0m t_slice \u001b[39m=\u001b[39m \u001b[39mslice\u001b[39m(\u001b[39mNone\u001b[39;00m, t_final \u001b[39m-\u001b[39m spin_up_time)\n\u001b[0;32m---> <a href='vscode-notebook-cell://ssh-remote%2Bsnellius.surf.nl/home/mverlaan/einf220/fromDavid/saved_results/gtsm/analysis_localization.ipynb#W2sdnNjb2RlLXJlbW90ZQ%3D%3D?line=29'>30</a>\u001b[0m obs_ts, obs \u001b[39m=\u001b[39m DataHandler\u001b[39m.\u001b[39;49mread_noos(noos_file(station))\n\u001b[1;32m     <a href='vscode-notebook-cell://ssh-remote%2Bsnellius.surf.nl/home/mverlaan/einf220/fromDavid/saved_results/gtsm/analysis_localization.ipynb#W2sdnNjb2RlLXJlbW90ZQ%3D%3D?line=30'>31</a>\u001b[0m observations \u001b[39m=\u001b[39m [obs_ts[t_slice], obs[t_slice]]\n\u001b[1;32m     <a href='vscode-notebook-cell://ssh-remote%2Bsnellius.surf.nl/home/mverlaan/einf220/fromDavid/saved_results/gtsm/analysis_localization.ipynb#W2sdnNjb2RlLXJlbW90ZQ%3D%3D?line=31'>32</a>\u001b[0m Plotter\u001b[39m.\u001b[39mplot_series(\n\u001b[1;32m     <a href='vscode-notebook-cell://ssh-remote%2Bsnellius.surf.nl/home/mverlaan/einf220/fromDavid/saved_results/gtsm/analysis_localization.ipynb#W2sdnNjb2RlLXJlbW90ZQ%3D%3D?line=32'>33</a>\u001b[0m     ts,\n\u001b[1;32m     <a href='vscode-notebook-cell://ssh-remote%2Bsnellius.surf.nl/home/mverlaan/einf220/fromDavid/saved_results/gtsm/analysis_localization.ipynb#W2sdnNjb2RlLXJlbW90ZQ%3D%3D?line=33'>34</a>\u001b[0m     ws,\n\u001b[0;32m   (...)\u001b[0m\n\u001b[1;32m     <a href='vscode-notebook-cell://ssh-remote%2Bsnellius.surf.nl/home/mverlaan/einf220/fromDavid/saved_results/gtsm/analysis_localization.ipynb#W2sdnNjb2RlLXJlbW90ZQ%3D%3D?line=37'>38</a>\u001b[0m     \u001b[39m# legends=labels\u001b[39;00m\n\u001b[1;32m     <a href='vscode-notebook-cell://ssh-remote%2Bsnellius.surf.nl/home/mverlaan/einf220/fromDavid/saved_results/gtsm/analysis_localization.ipynb#W2sdnNjb2RlLXJlbW90ZQ%3D%3D?line=38'>39</a>\u001b[0m )\n",
      "File \u001b[0;32m/gpfs/work1/0/einf220/fromDavid/saved_results/gtsm/utils/data_handler.py:49\u001b[0m, in \u001b[0;36mDataHandler.read_noos\u001b[0;34m(cls, path, s)\u001b[0m\n\u001b[1;32m     47\u001b[0m times \u001b[39m=\u001b[39m []\n\u001b[1;32m     48\u001b[0m values \u001b[39m=\u001b[39m []\n\u001b[0;32m---> 49\u001b[0m \u001b[39mwith\u001b[39;00m \u001b[39mopen\u001b[39m(path, \u001b[39m\"\u001b[39m\u001b[39mr\u001b[39m\u001b[39m\"\u001b[39m) \u001b[39mas\u001b[39;00m file:\n\u001b[1;32m     50\u001b[0m     \u001b[39mfor\u001b[39;00m line \u001b[39min\u001b[39;00m file:\n\u001b[1;32m     51\u001b[0m         \u001b[39mif\u001b[39;00m \u001b[39mnot\u001b[39;00m line\u001b[39m.\u001b[39mlstrip()\u001b[39m.\u001b[39mstartswith(\u001b[39m\"\u001b[39m\u001b[39m#\u001b[39m\u001b[39m\"\u001b[39m):\n",
      "\u001b[0;31mFileNotFoundError\u001b[0m: [Errno 2] No such file or directory: '/home/mverlaan/einf220/fromDavid/gtsm_openDA_david/stochObserver/noos_cmems/timeseries_2014-06-01_2014-08-31_lon-99.5_lat-60.0_averaged.noos'"
     ]
    }
   ],
   "source": [
    "for station in stations[5:11]:\n",
    "    ts = []\n",
    "    ws = []\n",
    "    works = list(range(n_works))\n",
    "    works = [str(x) for x in works]\n",
    "    title_func = lambda s: f\"Averaged waterlevel at {s}\"\n",
    "\n",
    "    t_final = 0\n",
    "    loc_name = \"\"\n",
    "    for label in labels:\n",
    "        # for work in works:\n",
    "        for work in [0]:\n",
    "            file = os.path.join(template(label, work), av_file)\n",
    "            nc_his = xr.load_dataset(file)\n",
    "\n",
    "            stations_his = nc_his.station_name.values\n",
    "            stations_his = np.array([s.decode(\"utf-8\").strip() for s in stations_his])\n",
    "            nc_his[\"station_name\"] = (\"stations\", stations_his)\n",
    "            station_data = nc_his.where(nc_his.station_name == station).dropna(\n",
    "                \"stations\"\n",
    "            )\n",
    "\n",
    "            ts.append(station_data.time.squeeze())\n",
    "            ws.append(station_data.waterlevel.values.squeeze())\n",
    "            loc_name = station\n",
    "            t_final = len(station_data.time.values)\n",
    "\n",
    "    # Observations\n",
    "    t_slice = slice(None, t_final - spin_up_time)\n",
    "    obs_ts, obs = DataHandler.read_noos(noos_file(station))\n",
    "    observations = [obs_ts[t_slice], obs[t_slice]]\n",
    "    Plotter.plot_series(\n",
    "        ts,\n",
    "        ws,\n",
    "        loc_name,\n",
    "        title_func,\n",
    "        obs_data=observations,\n",
    "        # legends=labels\n",
    "    )\n",
    "    plt.show()\n",
    "\n",
    "# Plotter.__clear__()\n",
    "# data1 = ws[0][spin_up_time:]\n",
    "# data2 = obs[t_slice]\n",
    "# plt.plot(data1)\n",
    "# plt.plot(data2)\n",
    "# print(np.std(data1 - data2))"
   ]
  },
  {
   "cell_type": "code",
   "execution_count": 10,
   "metadata": {},
   "outputs": [
    {
     "data": {
      "text/plain": [
       "0.7898351476554145"
      ]
     },
     "execution_count": 10,
     "metadata": {},
     "output_type": "execute_result"
    }
   ],
   "source": [
    "np.sqrt(((data1 - data2) ** 2).mean())"
   ]
  },
  {
   "cell_type": "code",
   "execution_count": null,
   "metadata": {},
   "outputs": [],
   "source": [
    "nc = xr.open_dataset(\n",
    "    \"/scratch-shared/mverlaan/experiment_gtsm/output_enkf/work0/output/full_gtsm_fine_0000_his.nc\"\n",
    ")\n",
    "nc"
   ]
  },
  {
   "cell_type": "code",
   "execution_count": null,
   "metadata": {},
   "outputs": [],
   "source": [
    "nc_av = xr.open_dataset(\n",
    "    \"/scratch-shared/mverlaan/experiment_gtsm/output_enkf/work0/output/full_gtsm_fine_averaged_0000_his.nc\"\n",
    ")\n",
    "nc_av"
   ]
  }
 ],
 "metadata": {
  "kernelspec": {
   "display_name": "base",
   "language": "python",
   "name": "python3"
  },
  "language_info": {
   "codemirror_mode": {
    "name": "ipython",
    "version": 3
   },
   "file_extension": ".py",
   "mimetype": "text/x-python",
   "name": "python",
   "nbconvert_exporter": "python",
   "pygments_lexer": "ipython3",
   "version": "3.11.5"
  },
  "orig_nbformat": 4
 },
 "nbformat": 4,
 "nbformat_minor": 2
}
